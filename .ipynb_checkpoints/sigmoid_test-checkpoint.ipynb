{
 "cells": [
  {
   "cell_type": "code",
   "execution_count": 12,
   "id": "2db55ea8",
   "metadata": {},
   "outputs": [
    {
     "name": "stdout",
     "output_type": "stream",
     "text": [
      "0.9999999586006244\n"
     ]
    }
   ],
   "source": [
    "import numpy as np\n",
    "import math\n",
    "\n",
    "\n",
    "def sigmoid(x):\n",
    "    denom = (1 + (math.e**-x))\n",
    "    return 1 / denom\n",
    "\n",
    "\n",
    "vect_x = np.array([2, 3])\n",
    "vect_w = np.array([0, 1])\n",
    "bias = 4\n",
    "\n",
    "weighted = np.dot(vect_x, vect_x)\n",
    "weighted_bias = weighted + bias\n",
    "\n",
    "neuron = sigmoid(weighted_bias)\n",
    "print(neuron)\n"
   ]
  }
 ],
 "metadata": {
  "kernelspec": {
   "display_name": "Python 3 (ipykernel)",
   "language": "python",
   "name": "python3"
  },
  "language_info": {
   "codemirror_mode": {
    "name": "ipython",
    "version": 3
   },
   "file_extension": ".py",
   "mimetype": "text/x-python",
   "name": "python",
   "nbconvert_exporter": "python",
   "pygments_lexer": "ipython3",
   "version": "3.9.7"
  }
 },
 "nbformat": 4,
 "nbformat_minor": 5
}
